{
 "cells": [
  {
   "cell_type": "code",
   "execution_count": 10,
   "metadata": {},
   "outputs": [],
   "source": [
    "def read_file_content(filename):\n",
    "    # [assignment] Add your code here\n",
    "    f = open(filename)\n",
    "    contents = f.read()\n",
    "\n",
    "    return(contents)\n",
    "    f.close()\n"
   ]
  },
  {
   "cell_type": "code",
   "execution_count": null,
   "metadata": {},
   "outputs": [],
   "source": [
    "read_file_content(\"./story.txt\")"
   ]
  },
  {
   "cell_type": "code",
   "execution_count": 32,
   "metadata": {},
   "outputs": [],
   "source": [
    "\n"
   ]
  },
  {
   "cell_type": "code",
   "execution_count": 37,
   "metadata": {},
   "outputs": [],
   "source": [
    "# Read text from a file, and count the occurence of words in that text\n",
    "# Example:\n",
    "# count_words(\"The cake is done. It is a big cake!\")\n",
    "# --> {\"cake\":2, \"big\":1, \"is\":2, \"the\":1, \"a\":1, \"it\":1}\n",
    "\n",
    "def read_file_content(filename):\n",
    "    # [assignment] Add your code here\n",
    "    f = open(filename)\n",
    "    contents = f.read()\n",
    "\n",
    "    return(contents)\n",
    "    f.close()\n",
    "    \n",
    "def count_words():\n",
    "    text = read_file_content(\"./story.txt\")\n",
    "    # [assignment] Add your code here\n",
    "   \n",
    "    list_of_words = text.split(\" \")\n",
    "\n",
    "    counts = dict()\n",
    "\n",
    "    for word in list_of_words:\n",
    "        if word in counts:\n",
    "            counts[word] += 1\n",
    "        else:\n",
    "            counts[word] = 1\n",
    "    return counts\n",
    "    # return {\"as\": 10, \"would\": 20}\n",
    "\n"
   ]
  },
  {
   "cell_type": "code",
   "execution_count": 38,
   "metadata": {},
   "outputs": [
    {
     "data": {
      "text/plain": [
       "{'Once': 1,\n",
       " 'upon': 1,\n",
       " 'a': 5,\n",
       " 'time': 1,\n",
       " 'psychology': 1,\n",
       " 'professor': 2,\n",
       " 'walked': 1,\n",
       " 'around': 1,\n",
       " 'on': 2,\n",
       " 'stage': 1,\n",
       " 'while': 1,\n",
       " 'teaching': 1,\n",
       " 'stress': 1,\n",
       " 'management': 1,\n",
       " 'principles': 1,\n",
       " 'to': 1,\n",
       " 'an': 1,\n",
       " 'auditorium': 1,\n",
       " 'filled': 1,\n",
       " 'with': 2,\n",
       " 'students.': 1,\n",
       " '': 2,\n",
       " '\\nAs': 1,\n",
       " 'she': 1,\n",
       " 'raised': 1,\n",
       " 'glass': 4,\n",
       " 'of': 2,\n",
       " 'water,': 1,\n",
       " 'everyone': 1,\n",
       " 'expected': 1,\n",
       " 'they': 1,\n",
       " 'would': 1,\n",
       " 'be': 1,\n",
       " 'asked': 1,\n",
       " 'the': 2,\n",
       " 'typical': 1,\n",
       " 'half': 2,\n",
       " 'empty': 1,\n",
       " 'or': 1,\n",
       " 'full': 1,\n",
       " 'question.': 1,\n",
       " '\\nInstead,': 1,\n",
       " 'smile': 1,\n",
       " 'her': 1,\n",
       " 'face,': 1,\n",
       " 'asked,': 1,\n",
       " 'How': 1,\n",
       " 'heavy': 1,\n",
       " 'is': 1,\n",
       " 'this': 1,\n",
       " 'water': 1,\n",
       " 'I': 1,\n",
       " 'am': 1,\n",
       " 'holding?': 1}"
      ]
     },
     "execution_count": 38,
     "metadata": {},
     "output_type": "execute_result"
    }
   ],
   "source": [
    "count_words()"
   ]
  },
  {
   "cell_type": "code",
   "execution_count": null,
   "metadata": {},
   "outputs": [],
   "source": []
  }
 ],
 "metadata": {
  "interpreter": {
   "hash": "81c64b7447d13ac7e71da4bf6c9f8743b11dd68420487cc994db1553f3e7d62a"
  },
  "kernelspec": {
   "display_name": "Python 3.9.7 ('base')",
   "language": "python",
   "name": "python3"
  },
  "language_info": {
   "codemirror_mode": {
    "name": "ipython",
    "version": 3
   },
   "file_extension": ".py",
   "mimetype": "text/x-python",
   "name": "python",
   "nbconvert_exporter": "python",
   "pygments_lexer": "ipython3",
   "version": "3.9.7"
  },
  "orig_nbformat": 4
 },
 "nbformat": 4,
 "nbformat_minor": 2
}
