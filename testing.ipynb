{
 "cells": [
  {
   "cell_type": "code",
   "execution_count": 1,
   "metadata": {},
   "outputs": [],
   "source": [
    "result = range(5)"
   ]
  },
  {
   "cell_type": "code",
   "execution_count": 5,
   "metadata": {},
   "outputs": [
    {
     "name": "stdout",
     "output_type": "stream",
     "text": [
      "[0, 1, 2, 3, 4]\n"
     ]
    }
   ],
   "source": [
    "print([x for x in result])"
   ]
  },
  {
   "cell_type": "code",
   "execution_count": 13,
   "metadata": {},
   "outputs": [
    {
     "name": "stdout",
     "output_type": "stream",
     "text": [
      "1\n",
      "r\n"
     ]
    }
   ],
   "source": [
    "import random\n",
    "list1 = [1,2,3,4,5]\n",
    "result = random.choice(list1)\n",
    "print(result)\n",
    "var =  input(\"your choice\").lower()\n",
    "print(var)"
   ]
  },
  {
   "cell_type": "code",
   "execution_count": 21,
   "metadata": {},
   "outputs": [
    {
     "name": "stdout",
     "output_type": "stream",
     "text": [
      "Hello Welcome, this is Rock Paper Scissor 's Game \n",
      "Please Note: you are playing the computer\n",
      "GAME RESULT: Player(R): CPU(S)\n",
      "Bravo!, you WON!\n"
     ]
    }
   ],
   "source": [
    "# Local Python Modules\n",
    "import random\n",
    "\n",
    "# Create a game list\n",
    "# R = rock,\n",
    "# P = paper\n",
    "# S = Scissors\n",
    "\n",
    "# Game Rules\n",
    "# i. the scissor win the paper\n",
    "# ii. the paper win the rock\n",
    "# iii. the rock win the scissor\n",
    "\n",
    "game_list = [\"R\", \"P\", \"S\"]\n",
    "\n",
    "# factor to stop game\n",
    "game_not_over = True\n",
    "\n",
    "print(\"Hello Welcome, this is Rock Paper Scissor 's Game \")\n",
    "print(\"Please Note: you are playing the computer\")\n",
    "\n",
    "while game_not_over:\n",
    "    user_choice = input(\n",
    "        \"please input your choice R='rock', P='paper', S='scissors' : \").lower()\n",
    "    computer_choice = random.choice(game_list).lower()\n",
    "    if user_choice.upper() not in game_list:\n",
    "        print(\"Your input is invalid, please enter a valid input\")\n",
    "    elif user_choice == \"r\" and computer_choice == 'p':\n",
    "        print(\"GAME RESULT: Player({}): CPU({})\".format(\n",
    "            user_choice.upper(), computer_choice.upper()))\n",
    "        print(\"Sorry!, you lose!\")\n",
    "        ask_to_play_again = input(\"do you want to play again? yes/no\").lower()\n",
    "        if ask_to_play_again == \"no\":\n",
    "            game_not_over = False\n",
    "    elif user_choice == \"r\" and computer_choice == \"s\":\n",
    "        print(\"GAME RESULT: Player({}): CPU({})\".format(\n",
    "            user_choice.upper(), computer_choice.upper()))\n",
    "        print(\"Bravo!, you WON!\")\n",
    "        ask_to_play_again = input(\"do you want to play again? yes/no\").lower()\n",
    "        if ask_to_play_again == \"no\":\n",
    "            game_not_over = False\n",
    "    elif user_choice == \"p\" and computer_choice == \"r\":\n",
    "        print(\"GAME RESULT: Player({}): CPU({})\".format(\n",
    "            user_choice.upper(), computer_choice.upper()))\n",
    "        print(\"Bravo!, you WON!\")\n",
    "        ask_to_play_again = input(\"do you want to play again? yes/no\").lower()\n",
    "        if ask_to_play_again == \"no\":\n",
    "            game_not_over = False\n",
    "    elif user_choice == \"p\" and computer_choice == \"s\":\n",
    "        print(\"GAME RESULT: Player({}): CPU({})\".format(\n",
    "            user_choice.upper(), computer_choice.upper()))\n",
    "        print(\"Sorry!, you lose!\")\n",
    "        ask_to_play_again = input(\"do you want to play again? yes/no\").lower()\n",
    "        if ask_to_play_again == \"no\":\n",
    "            game_not_over = False\n",
    "    elif user_choice == \"s\" and computer_choice == \"r\":\n",
    "        print(\"GAME RESULT: Player({}): CPU({})\".format(\n",
    "            user_choice.upper(), computer_choice.upper()))\n",
    "        print(\"Sorry!, you lose!\")\n",
    "        ask_to_play_again = input(\"do you want to play again? yes/no\").lower()\n",
    "        if ask_to_play_again == \"no\":\n",
    "            game_not_over = False\n",
    "    elif user_choice == \"s\" and computer_choice == \"p\":\n",
    "        print(\"GAME RESULT: Player({}): CPU({})\".format(\n",
    "            user_choice.upper(), computer_choice.upper()))\n",
    "        print(\"Bravo!, you WON!\")\n",
    "        ask_to_play_again = input(\"do you want to play again? yes/no\").lower()\n",
    "        if ask_to_play_again == \"no\":\n",
    "            game_not_over = False\n",
    "    else:\n",
    "        print(\"it's a tie\")\n",
    "        print(\"GAME RESULT: Player({}): CPU({})\".format(user_choice.upper(), computer_choice.upper()))\n",
    "        ask_to_play_again = input(\"do you want to play again? yes/no\").lower()\n",
    "        if ask_to_play_again == \"no\":\n",
    "            game_not_over = False\n"
   ]
  },
  {
   "cell_type": "code",
   "execution_count": null,
   "metadata": {},
   "outputs": [],
   "source": []
  }
 ],
 "metadata": {
  "interpreter": {
   "hash": "81c64b7447d13ac7e71da4bf6c9f8743b11dd68420487cc994db1553f3e7d62a"
  },
  "kernelspec": {
   "display_name": "Python 3.9.7 ('base')",
   "language": "python",
   "name": "python3"
  },
  "language_info": {
   "codemirror_mode": {
    "name": "ipython",
    "version": 3
   },
   "file_extension": ".py",
   "mimetype": "text/x-python",
   "name": "python",
   "nbconvert_exporter": "python",
   "pygments_lexer": "ipython3",
   "version": "3.9.7"
  },
  "orig_nbformat": 4
 },
 "nbformat": 4,
 "nbformat_minor": 2
}
